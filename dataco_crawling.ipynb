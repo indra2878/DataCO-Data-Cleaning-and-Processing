{
 "cells": [
  {
   "cell_type": "code",
   "execution_count": 1,
   "id": "deb6f323",
   "metadata": {},
   "outputs": [
    {
     "name": "stdout",
     "output_type": "stream",
     "text": [
      "            Type  Days for shipping (real)  Days for shipment (scheduled)  \\\n",
      "0          DEBIT                         3                              4   \n",
      "1       TRANSFER                         5                              4   \n",
      "2           CASH                         4                              4   \n",
      "3          DEBIT                         3                              4   \n",
      "4        PAYMENT                         2                              4   \n",
      "...          ...                       ...                            ...   \n",
      "180514      CASH                         4                              4   \n",
      "180515     DEBIT                         3                              2   \n",
      "180516  TRANSFER                         5                              4   \n",
      "180517   PAYMENT                         3                              4   \n",
      "180518   PAYMENT                         4                              4   \n",
      "\n",
      "        Benefit per order  Sales per customer   Delivery Status  \\\n",
      "0               91.250000          314.640015  Advance shipping   \n",
      "1             -249.089996          311.359985     Late delivery   \n",
      "2             -247.779999          309.720001  Shipping on time   \n",
      "3               22.860001          304.809998  Advance shipping   \n",
      "4              134.210007          298.250000  Advance shipping   \n",
      "...                   ...                 ...               ...   \n",
      "180514          40.000000          399.980011  Shipping on time   \n",
      "180515        -613.770019          395.980011     Late delivery   \n",
      "180516         141.110001          391.980011     Late delivery   \n",
      "180517         186.229996          387.980011  Advance shipping   \n",
      "180518         168.949997          383.980011  Shipping on time   \n",
      "\n",
      "        Late_delivery_risk  Category Id   Category Name Customer City  ...  \\\n",
      "0                        0           73  Sporting Goods        Caguas  ...   \n",
      "1                        1           73  Sporting Goods        Caguas  ...   \n",
      "2                        0           73  Sporting Goods      San Jose  ...   \n",
      "3                        0           73  Sporting Goods   Los Angeles  ...   \n",
      "4                        0           73  Sporting Goods        Caguas  ...   \n",
      "...                    ...          ...             ...           ...  ...   \n",
      "180514                   0           45         Fishing      Brooklyn  ...   \n",
      "180515                   1           45         Fishing   Bakersfield  ...   \n",
      "180516                   1           45         Fishing       Bristol  ...   \n",
      "180517                   0           45         Fishing        Caguas  ...   \n",
      "180518                   0           45         Fishing        Caguas  ...   \n",
      "\n",
      "       Order Zipcode Product Card Id Product Category Id  Product Description  \\\n",
      "0                NaN            1360                  73                  NaN   \n",
      "1                NaN            1360                  73                  NaN   \n",
      "2                NaN            1360                  73                  NaN   \n",
      "3                NaN            1360                  73                  NaN   \n",
      "4                NaN            1360                  73                  NaN   \n",
      "...              ...             ...                 ...                  ...   \n",
      "180514           NaN            1004                  45                  NaN   \n",
      "180515           NaN            1004                  45                  NaN   \n",
      "180516           NaN            1004                  45                  NaN   \n",
      "180517           NaN            1004                  45                  NaN   \n",
      "180518           NaN            1004                  45                  NaN   \n",
      "\n",
      "                                            Product Image  \\\n",
      "0             http://images.acmesports.sports/Smart+watch   \n",
      "1             http://images.acmesports.sports/Smart+watch   \n",
      "2             http://images.acmesports.sports/Smart+watch   \n",
      "3             http://images.acmesports.sports/Smart+watch   \n",
      "4             http://images.acmesports.sports/Smart+watch   \n",
      "...                                                   ...   \n",
      "180514  http://images.acmesports.sports/Field+%26+Stre...   \n",
      "180515  http://images.acmesports.sports/Field+%26+Stre...   \n",
      "180516  http://images.acmesports.sports/Field+%26+Stre...   \n",
      "180517  http://images.acmesports.sports/Field+%26+Stre...   \n",
      "180518  http://images.acmesports.sports/Field+%26+Stre...   \n",
      "\n",
      "                                     Product Name Product Price  \\\n",
      "0                                     Smart watch    327.750000   \n",
      "1                                     Smart watch    327.750000   \n",
      "2                                     Smart watch    327.750000   \n",
      "3                                     Smart watch    327.750000   \n",
      "4                                     Smart watch    327.750000   \n",
      "...                                           ...           ...   \n",
      "180514  Field & Stream Sportsman 16 Gun Fire Safe    399.980011   \n",
      "180515  Field & Stream Sportsman 16 Gun Fire Safe    399.980011   \n",
      "180516  Field & Stream Sportsman 16 Gun Fire Safe    399.980011   \n",
      "180517  Field & Stream Sportsman 16 Gun Fire Safe    399.980011   \n",
      "180518  Field & Stream Sportsman 16 Gun Fire Safe    399.980011   \n",
      "\n",
      "       Product Status shipping date (DateOrders)   Shipping Mode  \n",
      "0                   0        2018-02-03 22:56:00  Standard Class  \n",
      "1                   0        2018-01-18 12:27:00  Standard Class  \n",
      "2                   0        2018-01-17 12:06:00  Standard Class  \n",
      "3                   0        2018-01-16 11:45:00  Standard Class  \n",
      "4                   0        2018-01-15 11:24:00  Standard Class  \n",
      "...               ...                        ...             ...  \n",
      "180514              0        2016-01-20 03:40:00  Standard Class  \n",
      "180515              0        2016-01-19 01:34:00    Second Class  \n",
      "180516              0        2016-01-20 21:00:00  Standard Class  \n",
      "180517              0        2016-01-18 20:18:00  Standard Class  \n",
      "180518              0        2016-01-19 18:54:00  Standard Class  \n",
      "\n",
      "[180519 rows x 53 columns]\n"
     ]
    }
   ],
   "source": [
    "import pandas as pd\n",
    "df_dataco_00 = pd.read_excel(\"F:\\Data Indra\\Project\\Project Busan\\dataset\\Supply Chain Dataset Repaired.xlsx\", \"DataCoSupplyChainDataset\")\n",
    "print(df_dataco_00)"
   ]
  },
  {
   "cell_type": "code",
   "execution_count": 2,
   "id": "43497b0c",
   "metadata": {},
   "outputs": [
    {
     "name": "stdout",
     "output_type": "stream",
     "text": [
      "['Type', 'Days for shipping (real)', 'Days for shipment (scheduled)', 'Benefit per order', 'Sales per customer', 'Delivery Status', 'Late_delivery_risk', 'Category Id', 'Category Name', 'Customer City', 'Customer Country', 'Customer Email', 'Customer Fname', 'Customer Id', 'Customer Lname', 'Customer Password', 'Customer Segment', 'Customer State', 'Customer Street', 'Customer Zipcode', 'Department Id', 'Department Name', 'Latitude', 'Longitude', 'Market', 'Order City', 'Order Country', 'Order Customer Id', 'order date (DateOrders)', 'Order Id', 'Order Item Cardprod Id', 'Order Item Discount', 'Order Item Discount Rate', 'Order Item Id', 'Order Item Product Price', 'Order Item Profit Ratio', 'Order Item Quantity', 'Sales', 'Order Item Total', 'Order Profit Per Order', 'Order Region', 'Order State', 'Order Status', 'Order Zipcode', 'Product Card Id', 'Product Category Id', 'Product Description', 'Product Image', 'Product Name', 'Product Price', 'Product Status', 'shipping date (DateOrders)', 'Shipping Mode']\n"
     ]
    }
   ],
   "source": [
    "#Show the columns list from the dataset\n",
    "print(list(df_dataco_00.columns))"
   ]
  },
  {
   "cell_type": "markdown",
   "id": "725657ca",
   "metadata": {},
   "source": [
    "**Create necessary table to fulfilled the objectives**"
   ]
  },
  {
   "cell_type": "code",
   "execution_count": 3,
   "id": "47797fed",
   "metadata": {},
   "outputs": [
    {
     "name": "stdout",
     "output_type": "stream",
     "text": [
      "        Customer Id  Order Id order date (DateOrders)   Category Name  \\\n",
      "0             20755     77202     2018-01-31 22:56:00  Sporting Goods   \n",
      "1             19492     75939     2018-01-13 12:27:00  Sporting Goods   \n",
      "2             19491     75938     2018-01-13 12:06:00  Sporting Goods   \n",
      "3             19490     75937     2018-01-13 11:45:00  Sporting Goods   \n",
      "4             19489     75936     2018-01-13 11:24:00  Sporting Goods   \n",
      "...             ...       ...                     ...             ...   \n",
      "180514         1005     26043     2016-01-16 03:40:00         Fishing   \n",
      "180515         9141     26037     2016-01-16 01:34:00         Fishing   \n",
      "180516          291     26024     2016-01-15 21:00:00         Fishing   \n",
      "180517         2813     26022     2016-01-15 20:18:00         Fishing   \n",
      "180518         7547     26018     2016-01-15 18:54:00         Fishing   \n",
      "\n",
      "                                     Product Name  Order Item Quantity  \\\n",
      "0                                     Smart watch                    1   \n",
      "1                                     Smart watch                    1   \n",
      "2                                     Smart watch                    1   \n",
      "3                                     Smart watch                    1   \n",
      "4                                     Smart watch                    1   \n",
      "...                                           ...                  ...   \n",
      "180514  Field & Stream Sportsman 16 Gun Fire Safe                    1   \n",
      "180515  Field & Stream Sportsman 16 Gun Fire Safe                    1   \n",
      "180516  Field & Stream Sportsman 16 Gun Fire Safe                    1   \n",
      "180517  Field & Stream Sportsman 16 Gun Fire Safe                    1   \n",
      "180518  Field & Stream Sportsman 16 Gun Fire Safe                    1   \n",
      "\n",
      "        Sales per customer    Order Region shipping date (DateOrders)  \\\n",
      "0               314.640015  Southeast Asia        2018-02-03 22:56:00   \n",
      "1               311.359985      South Asia        2018-01-18 12:27:00   \n",
      "2               309.720001      South Asia        2018-01-17 12:06:00   \n",
      "3               304.809998         Oceania        2018-01-16 11:45:00   \n",
      "4               298.250000         Oceania        2018-01-15 11:24:00   \n",
      "...                    ...             ...                        ...   \n",
      "180514          399.980011    Eastern Asia        2016-01-20 03:40:00   \n",
      "180515          395.980011    Eastern Asia        2016-01-19 01:34:00   \n",
      "180516          391.980011         Oceania        2016-01-20 21:00:00   \n",
      "180517          387.980011         Oceania        2016-01-18 20:18:00   \n",
      "180518          383.980011      South Asia        2016-01-19 18:54:00   \n",
      "\n",
      "        Days for shipment (scheduled)  Days for shipping (real)  \\\n",
      "0                                   4                         3   \n",
      "1                                   4                         5   \n",
      "2                                   4                         4   \n",
      "3                                   4                         3   \n",
      "4                                   4                         2   \n",
      "...                               ...                       ...   \n",
      "180514                              4                         4   \n",
      "180515                              2                         3   \n",
      "180516                              4                         5   \n",
      "180517                              4                         3   \n",
      "180518                              4                         4   \n",
      "\n",
      "         Delivery Status   Shipping Mode  \n",
      "0       Advance shipping  Standard Class  \n",
      "1          Late delivery  Standard Class  \n",
      "2       Shipping on time  Standard Class  \n",
      "3       Advance shipping  Standard Class  \n",
      "4       Advance shipping  Standard Class  \n",
      "...                  ...             ...  \n",
      "180514  Shipping on time  Standard Class  \n",
      "180515     Late delivery    Second Class  \n",
      "180516     Late delivery  Standard Class  \n",
      "180517  Advance shipping  Standard Class  \n",
      "180518  Shipping on time  Standard Class  \n",
      "\n",
      "[180519 rows x 13 columns]\n"
     ]
    }
   ],
   "source": [
    "#By using df[] Notation to select multiple columns\n",
    "\n",
    "df_dataco_used = df_dataco_00[['Customer Id', 'Order Id', 'order date (DateOrders)', 'Category Name', 'Product Name',\n",
    "                               'Order Item Quantity', 'Sales per customer', 'Order Region', 'shipping date (DateOrders)',\n",
    "                               'Days for shipment (scheduled)', 'Days for shipping (real)', 'Delivery Status','Shipping Mode']]\n",
    "print(df_dataco_used)"
   ]
  },
  {
   "cell_type": "code",
   "execution_count": 4,
   "id": "c33256d0",
   "metadata": {},
   "outputs": [
    {
     "name": "stdout",
     "output_type": "stream",
     "text": [
      "<class 'pandas.core.frame.DataFrame'>\n",
      "RangeIndex: 180519 entries, 0 to 180518\n",
      "Data columns (total 13 columns):\n",
      " #   Column                         Non-Null Count   Dtype         \n",
      "---  ------                         --------------   -----         \n",
      " 0   Customer Id                    180519 non-null  int64         \n",
      " 1   Order Id                       180519 non-null  int64         \n",
      " 2   order date (DateOrders)        180519 non-null  datetime64[ns]\n",
      " 3   Category Name                  180519 non-null  object        \n",
      " 4   Product Name                   180519 non-null  object        \n",
      " 5   Order Item Quantity            180519 non-null  int64         \n",
      " 6   Sales per customer             180519 non-null  float64       \n",
      " 7   Order Region                   180519 non-null  object        \n",
      " 8   shipping date (DateOrders)     180519 non-null  datetime64[ns]\n",
      " 9   Days for shipment (scheduled)  180519 non-null  int64         \n",
      " 10  Days for shipping (real)       180519 non-null  int64         \n",
      " 11  Delivery Status                180519 non-null  object        \n",
      " 12  Shipping Mode                  180519 non-null  object        \n",
      "dtypes: datetime64[ns](2), float64(1), int64(5), object(5)\n",
      "memory usage: 17.9+ MB\n"
     ]
    }
   ],
   "source": [
    "#1 Checking missing value\n",
    "df_dataco_used.info()"
   ]
  },
  {
   "cell_type": "markdown",
   "id": "4f2ea0d2",
   "metadata": {},
   "source": [
    "from the data information above, the number of non-null values is the same as the amount of data, so that there are no missing values in the dataset."
   ]
  },
  {
   "cell_type": "code",
   "execution_count": 5,
   "id": "30c8df56",
   "metadata": {},
   "outputs": [
    {
     "name": "stdout",
     "output_type": "stream",
     "text": [
      "0\n"
     ]
    },
    {
     "data": {
      "text/html": [
       "<div>\n",
       "<style scoped>\n",
       "    .dataframe tbody tr th:only-of-type {\n",
       "        vertical-align: middle;\n",
       "    }\n",
       "\n",
       "    .dataframe tbody tr th {\n",
       "        vertical-align: top;\n",
       "    }\n",
       "\n",
       "    .dataframe thead th {\n",
       "        text-align: right;\n",
       "    }\n",
       "</style>\n",
       "<table border=\"1\" class=\"dataframe\">\n",
       "  <thead>\n",
       "    <tr style=\"text-align: right;\">\n",
       "      <th></th>\n",
       "      <th>duplicated_count</th>\n",
       "      <th>duplicated_percentage</th>\n",
       "    </tr>\n",
       "  </thead>\n",
       "  <tbody>\n",
       "  </tbody>\n",
       "</table>\n",
       "</div>"
      ],
      "text/plain": [
       "Empty DataFrame\n",
       "Columns: [duplicated_count, duplicated_percentage]\n",
       "Index: []"
      ]
     },
     "execution_count": 5,
     "metadata": {},
     "output_type": "execute_result"
    }
   ],
   "source": [
    "#2. Checking duplicated datas\n",
    "print(df_dataco_used.duplicated().sum())\n",
    "\n",
    "#Totalize duplicated datas in the dataset, split it from Non-duplicated\n",
    "duplicated_data = df_dataco_used.duplicated().sum()[df_dataco_used.duplicated().sum() > 0]\n",
    "\n",
    "#create dataframe duplicated_count & duplicated_percentage\n",
    "duplicated_df_dataco_used = pd.DataFrame({'duplicated_count': duplicated_data, 'duplicated_percentage': duplicated_data/ len(df_dataco_used)})\n",
    "duplicated_df_dataco_used\n"
   ]
  },
  {
   "cell_type": "markdown",
   "id": "5fe0933d",
   "metadata": {},
   "source": [
    "from the dataframe above, there are null duplicated data, so that there are no duplicated data."
   ]
  },
  {
   "cell_type": "code",
   "execution_count": null,
   "id": "6d14c5f6",
   "metadata": {},
   "outputs": [],
   "source": [
    "#3 Checking inconsistent\n",
    "#from the result df_dataco_used.info() the data types already in proper types not needed to fix it."
   ]
  },
  {
   "cell_type": "code",
   "execution_count": 6,
   "id": "f5a8d17e",
   "metadata": {},
   "outputs": [],
   "source": [
    "df_dataco_used.to_excel('DataCoDatasetUsed.xlsx', sheet_name='Sheet1', index=False)\n"
   ]
  },
  {
   "cell_type": "code",
   "execution_count": 7,
   "id": "5c6ccfbe",
   "metadata": {},
   "outputs": [
    {
     "name": "stdout",
     "output_type": "stream",
     "text": [
      "        Customer Id  Order Id order date (DateOrders)   Category Name  \\\n",
      "0             20755     77202     2018-01-31 22:56:00  Sporting Goods   \n",
      "1             19492     75939     2018-01-13 12:27:00  Sporting Goods   \n",
      "2             19491     75938     2018-01-13 12:06:00  Sporting Goods   \n",
      "3             19490     75937     2018-01-13 11:45:00  Sporting Goods   \n",
      "4             19489     75936     2018-01-13 11:24:00  Sporting Goods   \n",
      "...             ...       ...                     ...             ...   \n",
      "180514         1005     26043     2016-01-16 03:40:00         Fishing   \n",
      "180515         9141     26037     2016-01-16 01:34:00         Fishing   \n",
      "180516          291     26024     2016-01-15 21:00:00         Fishing   \n",
      "180517         2813     26022     2016-01-15 20:18:00         Fishing   \n",
      "180518         7547     26018     2016-01-15 18:54:00         Fishing   \n",
      "\n",
      "                                     Product Name  Order Item Quantity  \\\n",
      "0                                     Smart watch                    1   \n",
      "1                                     Smart watch                    1   \n",
      "2                                     Smart watch                    1   \n",
      "3                                     Smart watch                    1   \n",
      "4                                     Smart watch                    1   \n",
      "...                                           ...                  ...   \n",
      "180514  Field & Stream Sportsman 16 Gun Fire Safe                    1   \n",
      "180515  Field & Stream Sportsman 16 Gun Fire Safe                    1   \n",
      "180516  Field & Stream Sportsman 16 Gun Fire Safe                    1   \n",
      "180517  Field & Stream Sportsman 16 Gun Fire Safe                    1   \n",
      "180518  Field & Stream Sportsman 16 Gun Fire Safe                    1   \n",
      "\n",
      "        Sales per customer    Order Region shipping date (DateOrders)  \\\n",
      "0               314.640015  Southeast Asia        2018-02-03 22:56:00   \n",
      "1               311.359985      South Asia        2018-01-18 12:27:00   \n",
      "2               309.720001      South Asia        2018-01-17 12:06:00   \n",
      "3               304.809998         Oceania        2018-01-16 11:45:00   \n",
      "4               298.250000         Oceania        2018-01-15 11:24:00   \n",
      "...                    ...             ...                        ...   \n",
      "180514          399.980011    Eastern Asia        2016-01-20 03:40:00   \n",
      "180515          395.980011    Eastern Asia        2016-01-19 01:34:00   \n",
      "180516          391.980011         Oceania        2016-01-20 21:00:00   \n",
      "180517          387.980011         Oceania        2016-01-18 20:18:00   \n",
      "180518          383.980011      South Asia        2016-01-19 18:54:00   \n",
      "\n",
      "        Days for shipment (scheduled)  Days for shipping (real)  \\\n",
      "0                                   4                         3   \n",
      "1                                   4                         5   \n",
      "2                                   4                         4   \n",
      "3                                   4                         3   \n",
      "4                                   4                         2   \n",
      "...                               ...                       ...   \n",
      "180514                              4                         4   \n",
      "180515                              2                         3   \n",
      "180516                              4                         5   \n",
      "180517                              4                         3   \n",
      "180518                              4                         4   \n",
      "\n",
      "         Delivery Status   Shipping Mode  \n",
      "0       Advance shipping  Standard Class  \n",
      "1          Late delivery  Standard Class  \n",
      "2       Shipping on time  Standard Class  \n",
      "3       Advance shipping  Standard Class  \n",
      "4       Advance shipping  Standard Class  \n",
      "...                  ...             ...  \n",
      "180514  Shipping on time  Standard Class  \n",
      "180515     Late delivery    Second Class  \n",
      "180516     Late delivery  Standard Class  \n",
      "180517  Advance shipping  Standard Class  \n",
      "180518  Shipping on time  Standard Class  \n",
      "\n",
      "[180519 rows x 13 columns]\n"
     ]
    }
   ],
   "source": [
    "df_dataset_used = pd.read_excel(\"F:\\Data Indra\\Project\\Project Busan\\dataset\\DataCoDatasetUsed.xlsx\")\n",
    "print(df_dataset_used)"
   ]
  },
  {
   "cell_type": "code",
   "execution_count": 8,
   "id": "21bcbf1a",
   "metadata": {},
   "outputs": [
    {
     "name": "stdout",
     "output_type": "stream",
     "text": [
      "<class 'pandas.core.frame.DataFrame'>\n",
      "RangeIndex: 180519 entries, 0 to 180518\n",
      "Data columns (total 13 columns):\n",
      " #   Column                         Non-Null Count   Dtype         \n",
      "---  ------                         --------------   -----         \n",
      " 0   Customer Id                    180519 non-null  int64         \n",
      " 1   Order Id                       180519 non-null  int64         \n",
      " 2   order date (DateOrders)        180519 non-null  datetime64[ns]\n",
      " 3   Category Name                  180519 non-null  object        \n",
      " 4   Product Name                   180519 non-null  object        \n",
      " 5   Order Item Quantity            180519 non-null  int64         \n",
      " 6   Sales per customer             180519 non-null  float64       \n",
      " 7   Order Region                   180519 non-null  object        \n",
      " 8   shipping date (DateOrders)     180519 non-null  datetime64[ns]\n",
      " 9   Days for shipment (scheduled)  180519 non-null  int64         \n",
      " 10  Days for shipping (real)       180519 non-null  int64         \n",
      " 11  Delivery Status                180519 non-null  object        \n",
      " 12  Shipping Mode                  180519 non-null  object        \n",
      "dtypes: datetime64[ns](2), float64(1), int64(5), object(5)\n",
      "memory usage: 17.9+ MB\n"
     ]
    }
   ],
   "source": [
    "df_dataset_used.info()"
   ]
  },
  {
   "cell_type": "code",
   "execution_count": 9,
   "id": "d3671736",
   "metadata": {},
   "outputs": [
    {
     "name": "stdout",
     "output_type": "stream",
     "text": [
      "0\n"
     ]
    },
    {
     "data": {
      "text/html": [
       "<div>\n",
       "<style scoped>\n",
       "    .dataframe tbody tr th:only-of-type {\n",
       "        vertical-align: middle;\n",
       "    }\n",
       "\n",
       "    .dataframe tbody tr th {\n",
       "        vertical-align: top;\n",
       "    }\n",
       "\n",
       "    .dataframe thead th {\n",
       "        text-align: right;\n",
       "    }\n",
       "</style>\n",
       "<table border=\"1\" class=\"dataframe\">\n",
       "  <thead>\n",
       "    <tr style=\"text-align: right;\">\n",
       "      <th></th>\n",
       "      <th>duplicated_count</th>\n",
       "      <th>duplicated_percentage</th>\n",
       "    </tr>\n",
       "  </thead>\n",
       "  <tbody>\n",
       "  </tbody>\n",
       "</table>\n",
       "</div>"
      ],
      "text/plain": [
       "Empty DataFrame\n",
       "Columns: [duplicated_count, duplicated_percentage]\n",
       "Index: []"
      ]
     },
     "execution_count": 9,
     "metadata": {},
     "output_type": "execute_result"
    }
   ],
   "source": [
    "#2. Checking duplicated datas\n",
    "print(df_dataset_used.duplicated().sum())\n",
    "\n",
    "#Totalize duplicated datas in the dataset, split it from Non-duplicated\n",
    "duplicated_data2 = df_dataset_used.duplicated().sum()[df_dataset_used.duplicated().sum() > 0]\n",
    "\n",
    "#create dataframe duplicated_count & duplicated_percentage\n",
    "duplicated_df_dataset_used = pd.DataFrame({'duplicated_count': duplicated_data2, 'duplicated_percentage': duplicated_data2/ len(df_dataset_used)})\n",
    "duplicated_df_dataset_used"
   ]
  },
  {
   "cell_type": "code",
   "execution_count": null,
   "id": "dbd1d6d8",
   "metadata": {},
   "outputs": [],
   "source": []
  }
 ],
 "metadata": {
  "kernelspec": {
   "display_name": "Python 3 (ipykernel)",
   "language": "python",
   "name": "python3"
  },
  "language_info": {
   "codemirror_mode": {
    "name": "ipython",
    "version": 3
   },
   "file_extension": ".py",
   "mimetype": "text/x-python",
   "name": "python",
   "nbconvert_exporter": "python",
   "pygments_lexer": "ipython3",
   "version": "3.10.12"
  }
 },
 "nbformat": 4,
 "nbformat_minor": 5
}
